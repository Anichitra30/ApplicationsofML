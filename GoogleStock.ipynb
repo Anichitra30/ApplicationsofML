{
  "nbformat": 4,
  "nbformat_minor": 0,
  "metadata": {
    "colab": {
      "provenance": []
    },
    "kernelspec": {
      "name": "python3",
      "display_name": "Python 3"
    },
    "language_info": {
      "name": "python"
    }
  },
  "cells": [
    {
      "cell_type": "markdown",
      "source": [],
      "metadata": {
        "id": "NJQjdrN9M-7r"
      }
    },
    {
      "cell_type": "markdown",
      "source": [
        "Link to the dataset : https://thecleverprogrammer.com/2020/08/09/stock-price-prediction-with-facebook-prophet-model/#:~:text=just%20downloaded%20from-,yahoo%20finance,-.%20If%20you%20want\n",
        "\n",
        "We are using package named fbprophet to use with the dataset. Referred from : https://github.com/ashishpatel26"
      ],
      "metadata": {
        "id": "YE82J8w7NDgf"
      }
    },
    {
      "cell_type": "code",
      "source": [
        "import pandas as pd\n",
        "import numpy as np\n",
        "import matplotlib.pyplot as plt\n",
        "import pandas_datareader as web\n",
        "import warnings\n",
        "!pip install fbprophet\n",
        "import fbprophet"
      ],
      "metadata": {
        "id": "RvuqFAD1NqJ6"
      },
      "execution_count": null,
      "outputs": []
    },
    {
      "cell_type": "code",
      "source": [
        "#loading data to read\n",
        "from google.colab import files\n",
        "uploaded = files.upload()\n",
        "data = pd.read_csv(\"GOOG.csv\")\n",
        "data.head()"
      ],
      "metadata": {
        "id": "kAI0jjOUNteh"
      },
      "execution_count": null,
      "outputs": []
    },
    {
      "cell_type": "code",
      "source": [
        "#insights from the data \n",
        "plt.style.use(\"fivethirtyeight\")\n",
        "plt.figure(figsize=(16,8))\n",
        "plt.title(\"Google Closing Stock Price\")\n",
        "plt.plot(data[\"Close\"])\n",
        "plt.xlabel(\"Date\", fontsize=18)\n",
        "plt.ylabel(\"Close Price USD ($)\", fontsize=18)\n",
        "plt.show()"
      ],
      "metadata": {
        "id": "7izJKuC8N02o"
      },
      "execution_count": null,
      "outputs": []
    },
    {
      "cell_type": "markdown",
      "source": [
        "We require only 2 features: Date and Close Price"
      ],
      "metadata": {
        "id": "uwT4HNMdONkm"
      }
    },
    {
      "cell_type": "code",
      "source": [
        "#preparing the data \n",
        "data = data[[\"Date\",\"Close\"]] \n",
        "data = data.rename(columns = {\"Date\":\"ds\",\"Close\":\"y\"})\n",
        "data.head()"
      ],
      "metadata": {
        "id": "2W4ug__1OPdJ"
      },
      "execution_count": null,
      "outputs": []
    },
    {
      "cell_type": "code",
      "source": [
        "#fitting \n",
        "from fbprophet import Prophet\n",
        "m = Prophet(daily_seasonality=True)\n",
        "m.fit(data)"
      ],
      "metadata": {
        "id": "diVc-dz5OS6B"
      },
      "execution_count": null,
      "outputs": []
    },
    {
      "cell_type": "code",
      "source": [
        "#making predictions\n",
        "future = m.make_future_dataframe(periods=365)\n",
        "predictions=m.predict(future)\n",
        "m.plot(predictions)\n",
        "plt.title(\"Prediction of GOOGLE Stock Price\")\n",
        "plt.xlabel(\"Date\")\n",
        "plt.ylabel(\"Closing Stock Price\")\n",
        "plt.show()"
      ],
      "metadata": {
        "id": "KicR--G3OYU4"
      },
      "execution_count": null,
      "outputs": []
    },
    {
      "cell_type": "code",
      "source": [
        "m.plot_components(predictions)\n",
        "plt.show()"
      ],
      "metadata": {
        "id": "v9j9tKw7OagW"
      },
      "execution_count": null,
      "outputs": []
    },
    {
      "cell_type": "markdown",
      "source": [
        "These are the seasonal affects made on the prediction by our model."
      ],
      "metadata": {
        "id": "5rKtlU9LOe63"
      }
    }
  ]
}